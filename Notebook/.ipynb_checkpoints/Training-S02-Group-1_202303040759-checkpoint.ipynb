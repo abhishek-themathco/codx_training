{
 "cells": [
  {
   "cell_type": "markdown",
   "metadata": {},
   "source": [
    "## This is your Downloaded Blueprint Notebook ##"
   ]
  },
  {
   "cell_type": "code",
   "execution_count": 1,
   "metadata": {},
   "outputs": [],
   "source": [
    "# tags to identify this iteration when submitted\n",
    "# example: codex_tags = {'env': 'dev', 'region': 'USA', 'product_category': 'A'}\n",
    "\n",
    "codex_tags = {\n",
    "    'env': 'training_s02'\n",
    "}\n",
    "\n",
    "from codex_widget_factory import utils\n",
    "results_json=[]\n",
    "\n"
   ]
  },
  {
   "cell_type": "markdown",
   "metadata": {},
   "source": [
    "### Custom Placeholder"
   ]
  },
  {
   "cell_type": "code",
   "execution_count": 2,
   "metadata": {},
   "outputs": [],
   "source": [
    "#BEGIN CUSTOM CODE BELOW...\n",
    "\n",
    "#put your output in this response param for connecting to downstream widgets\n",
    "response_0=\"\"\"\n",
    "import plotly.express as px\n",
    "import pandas as pd\n",
    "import json\n",
    "import plotly.io as io\n",
    "import sklearn\n",
    "from sklearn import datasets\n",
    "\n",
    "def plotGraph():\n",
    "    \n",
    "    data = datasets.load_wine()\n",
    "    df = pd.DataFrame(data.data, columns=data.feature_names)\n",
    "    df=df[['ash','alcalinity_of_ash']]\n",
    "    fig = px.scatter(df, x=\"ash\", y=\"alcalinity_of_ash\", title = \"Scatter Plot\")\n",
    "\n",
    "    #fig.show()\n",
    "    return io.to_json(fig)\n",
    "\n",
    "dynamic_outputs = plotGraph()\n",
    "\n",
    "\"\"\"\n",
    "\n",
    "#END CUSTOM CODE\n",
    "\n"
   ]
  },
  {
   "cell_type": "code",
   "execution_count": 3,
   "metadata": {},
   "outputs": [],
   "source": [
    "response_1 = '''\n",
    "import pandas as pd\n",
    "import numpy as np\n",
    "from pathlib import Path\n",
    "from azure.storage.blob import BlockBlobService\n",
    "from io import StringIO\n",
    "import datetime\n",
    "import plotly.express as px\n",
    "import json\n",
    "from itertools import chain\n",
    "from plotly.io import to_json\n",
    "\n",
    "sas_token = '?sv=2021-04-10&st=2022-12-22T08%3A12%3A47Z&se=2023-12-30T08%3A12%3A00Z&sr=c&sp=racwl&sig=fMeYkXsCvwK%2F0qVrCmj2j3NiMricQjOPWOkAEXekIPA%3D'\n",
    "account_name = 'willbedeletedsoon'\n",
    "container_name = 'codx-pede-s02'\n",
    "blob_name = 'wine_I0896.csv'\n",
    "def get_data_from_blob(sas_token, account_name, container_name, blob_name):\n",
    "    block_blob_service = BlockBlobService(account_name=account_name, sas_token= sas_token)\n",
    "    from_blob = block_blob_service.get_blob_to_text(container_name = container_name, blob_name=blob_name)\n",
    "    return pd.read_csv(StringIO(from_blob.content))\n",
    "df_blob = get_data_from_blob(sas_token, account_name, container_name, blob_name)\n",
    "\n",
    "def getTable(df, show_searchbar=False, multiple_tables=False):\n",
    "\n",
    "    comp_dict = {}\n",
    "    comp_dict['table_headers'] = df.columns.values.tolist()\n",
    "    comp_dict['table_data'] = df.values.tolist()\n",
    "    comp_dict['show_searchbar'] = show_searchbar\n",
    "    comp_dict['multiple_tables'] = multiple_tables\n",
    "    return comp_dict\n",
    "\n",
    "container_dictionary = {}\n",
    "container_dictionary = getTable(df_blob, show_searchbar = True)\n",
    "container_dictionary\n",
    "\n",
    "outputs_dict = json.dumps(container_dictionary)\n",
    "\n",
    "'''"
   ]
  },
  {
   "cell_type": "markdown",
   "metadata": {},
   "source": [
    "### Please save and checkpoint notebook before submitting params"
   ]
  },
  {
   "cell_type": "code",
   "execution_count": null,
   "metadata": {},
   "outputs": [],
   "source": [
    "\n",
    "currentNotebook = 'Training-S02-Group-1_202303040759.ipynb'\n",
    "\n",
    "!jupyter nbconvert --to script {currentNotebook} \n",
    "\n"
   ]
  },
  {
   "cell_type": "code",
   "execution_count": null,
   "metadata": {},
   "outputs": [],
   "source": [
    "\n",
    "utils.submit_config_params(url='https://codex-api-stage.azurewebsites.net/codex-api/projects/upload-config-params/XWIjwXOeLjddJjfrErPAGw', nb_name=currentNotebook, results=results_json, codex_tags=codex_tags, args={})"
   ]
  }
 ],
 "metadata": {
  "kernelspec": {
   "display_name": "Python 3",
   "language": "python",
   "name": "python3"
  },
  "language_info": {
   "codemirror_mode": {
    "name": "ipython",
    "version": 3
   },
   "file_extension": ".py",
   "mimetype": "text/x-python",
   "name": "python",
   "nbconvert_exporter": "python",
   "pygments_lexer": "ipython3",
   "version": "3.7.5"
  }
 },
 "nbformat": 4,
 "nbformat_minor": 4
}
